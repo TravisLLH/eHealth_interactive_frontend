{
 "cells": [
  {
   "cell_type": "code",
   "execution_count": 1,
   "metadata": {},
   "outputs": [],
   "source": [
    "%load_ext autoreload\n",
    "%autoreload 2"
   ]
  },
  {
   "cell_type": "code",
   "execution_count": 2,
   "metadata": {},
   "outputs": [],
   "source": [
    "import pandas as pd\n",
    "import requests\n",
    "\n",
    "NGROK_DOMAIN = \"http://eez115.ece.ust.hk:5000/\"\n",
    "# NGROK_DOMAIN = \"http://localhost:8080/\"\n",
    "session_id = 227194704\n",
    "\n",
    "\n",
    "response = requests.post(f\"{NGROK_DOMAIN}/get_paf_result\", json={\"session_id\": session_id})\n",
    "response = response.json()\n",
    "response_data = response.get(\"responses\", {})\n",
    "conversation_history = response_data.pop(\"conversation_history\", None)\n",
    "table = pd.DataFrame.from_dict(response_data, orient='index')"
   ]
  },
  {
   "cell_type": "code",
   "execution_count": 3,
   "metadata": {},
   "outputs": [
    {
     "data": {
      "text/plain": [
       "[{'role': 'Grace', 'utterance': '你好啊！我喺 Grace。你今日覺得點啊？'},\n",
       " {'role': 'Patient', 'utterance': 'hi'},\n",
       " {'role': 'Grace', 'utterance': '請問你有冇咳？'},\n",
       " {'role': 'Patient', 'utterance': 'no'},\n",
       " {'role': 'Grace', 'utterance': '冇。請問有冇痰？'},\n",
       " {'role': 'Patient', 'utterance': 'no'},\n",
       " {'role': 'Grace', 'utterance': '請問你過去嗰三個月有冇無端端輕左？'},\n",
       " {'role': 'Patient', 'utterance': 'yes about 3kg'},\n",
       " {'role': 'Grace', 'utterance': '胃口有冇差到？'},\n",
       " {'role': 'Patient', 'utterance': 'yes'},\n",
       " {'role': 'Grace', 'utterance': '收到。你有冇特別嘅嘢唔食㗎？'},\n",
       " {'role': 'Patient', 'utterance': 'i like chicken'},\n",
       " {'role': 'Grace', 'utterance': '好多謝你嘅時間，我已經將你所有嘅答案記錄曬。'}]"
      ]
     },
     "execution_count": 3,
     "metadata": {},
     "output_type": "execute_result"
    }
   ],
   "source": [
    "conversation_history"
   ]
  },
  {
   "cell_type": "code",
   "execution_count": 4,
   "metadata": {},
   "outputs": [
    {
     "data": {
      "text/html": [
       "<div>\n",
       "<style scoped>\n",
       "    .dataframe tbody tr th:only-of-type {\n",
       "        vertical-align: middle;\n",
       "    }\n",
       "\n",
       "    .dataframe tbody tr th {\n",
       "        vertical-align: top;\n",
       "    }\n",
       "\n",
       "    .dataframe thead th {\n",
       "        text-align: right;\n",
       "    }\n",
       "</style>\n",
       "<table border=\"1\" class=\"dataframe\">\n",
       "  <thead>\n",
       "    <tr style=\"text-align: right;\">\n",
       "      <th></th>\n",
       "      <th>patient_answer</th>\n",
       "      <th>question_asked</th>\n",
       "      <th>session_id</th>\n",
       "      <th>slot_name</th>\n",
       "      <th>slot_value</th>\n",
       "    </tr>\n",
       "  </thead>\n",
       "  <tbody>\n",
       "    <tr>\n",
       "      <th>appetite_loss</th>\n",
       "      <td>yes</td>\n",
       "      <td>胃口有冇差到？</td>\n",
       "      <td>297706618</td>\n",
       "      <td>appetite_loss</td>\n",
       "      <td>yes</td>\n",
       "    </tr>\n",
       "    <tr>\n",
       "      <th>cough_existence</th>\n",
       "      <td>no</td>\n",
       "      <td>請問你有冇咳？</td>\n",
       "      <td>297706618</td>\n",
       "      <td>cough_existence</td>\n",
       "      <td>no</td>\n",
       "    </tr>\n",
       "    <tr>\n",
       "      <th>food_preference</th>\n",
       "      <td>i like chicken</td>\n",
       "      <td>你有冇特別嘅嘢唔食㗎？</td>\n",
       "      <td>297706618</td>\n",
       "      <td>food_preference</td>\n",
       "      <td>no preference</td>\n",
       "    </tr>\n",
       "    <tr>\n",
       "      <th>sputum_existence</th>\n",
       "      <td>no</td>\n",
       "      <td>請問有冇痰？</td>\n",
       "      <td>297706618</td>\n",
       "      <td>sputum_existence</td>\n",
       "      <td>no.</td>\n",
       "    </tr>\n",
       "    <tr>\n",
       "      <th>weight_loss_amount</th>\n",
       "      <td>yes about 3kg</td>\n",
       "      <td>請問你過去嗰三個月有冇無端端輕左？</td>\n",
       "      <td>297706618</td>\n",
       "      <td>weight_loss_amount</td>\n",
       "      <td>1-5kg</td>\n",
       "    </tr>\n",
       "    <tr>\n",
       "      <th>weight_loss_existance</th>\n",
       "      <td>yes about 3kg</td>\n",
       "      <td>請問你過去嗰三個月有冇無端端輕左？</td>\n",
       "      <td>297706618</td>\n",
       "      <td>weight_loss_existance</td>\n",
       "      <td>yes</td>\n",
       "    </tr>\n",
       "  </tbody>\n",
       "</table>\n",
       "</div>"
      ],
      "text/plain": [
       "                       patient_answer     question_asked  session_id  \\\n",
       "appetite_loss                     yes            胃口有冇差到？   297706618   \n",
       "cough_existence                    no            請問你有冇咳？   297706618   \n",
       "food_preference        i like chicken        你有冇特別嘅嘢唔食㗎？   297706618   \n",
       "sputum_existence                   no             請問有冇痰？   297706618   \n",
       "weight_loss_amount      yes about 3kg  請問你過去嗰三個月有冇無端端輕左？   297706618   \n",
       "weight_loss_existance   yes about 3kg  請問你過去嗰三個月有冇無端端輕左？   297706618   \n",
       "\n",
       "                                   slot_name     slot_value  \n",
       "appetite_loss                  appetite_loss            yes  \n",
       "cough_existence              cough_existence             no  \n",
       "food_preference              food_preference  no preference  \n",
       "sputum_existence            sputum_existence            no.  \n",
       "weight_loss_amount        weight_loss_amount          1-5kg  \n",
       "weight_loss_existance  weight_loss_existance            yes  "
      ]
     },
     "execution_count": 4,
     "metadata": {},
     "output_type": "execute_result"
    }
   ],
   "source": [
    "table"
   ]
  },
  {
   "cell_type": "code",
   "execution_count": 5,
   "metadata": {},
   "outputs": [
    {
     "data": {
      "text/html": [
       "<div>\n",
       "<style scoped>\n",
       "    .dataframe tbody tr th:only-of-type {\n",
       "        vertical-align: middle;\n",
       "    }\n",
       "\n",
       "    .dataframe tbody tr th {\n",
       "        vertical-align: top;\n",
       "    }\n",
       "\n",
       "    .dataframe thead th {\n",
       "        text-align: right;\n",
       "    }\n",
       "</style>\n",
       "<table border=\"1\" class=\"dataframe\">\n",
       "  <thead>\n",
       "    <tr style=\"text-align: right;\">\n",
       "      <th></th>\n",
       "      <th>session_id</th>\n",
       "      <th>slot_name</th>\n",
       "      <th>question_asked</th>\n",
       "      <th>slot_value</th>\n",
       "    </tr>\n",
       "  </thead>\n",
       "  <tbody>\n",
       "    <tr>\n",
       "      <th>0</th>\n",
       "      <td>297706618</td>\n",
       "      <td>appetite_loss</td>\n",
       "      <td>胃口有冇差到？</td>\n",
       "      <td>yes</td>\n",
       "    </tr>\n",
       "    <tr>\n",
       "      <th>1</th>\n",
       "      <td>297706618</td>\n",
       "      <td>cough_existence</td>\n",
       "      <td>請問你有冇咳？</td>\n",
       "      <td>no</td>\n",
       "    </tr>\n",
       "    <tr>\n",
       "      <th>2</th>\n",
       "      <td>297706618</td>\n",
       "      <td>food_preference</td>\n",
       "      <td>你有冇特別嘅嘢唔食㗎？</td>\n",
       "      <td>no preference</td>\n",
       "    </tr>\n",
       "    <tr>\n",
       "      <th>3</th>\n",
       "      <td>297706618</td>\n",
       "      <td>sputum_existence</td>\n",
       "      <td>請問有冇痰？</td>\n",
       "      <td>no.</td>\n",
       "    </tr>\n",
       "    <tr>\n",
       "      <th>4</th>\n",
       "      <td>297706618</td>\n",
       "      <td>weight_loss_amount</td>\n",
       "      <td>請問你過去嗰三個月有冇無端端輕左？</td>\n",
       "      <td>1-5kg</td>\n",
       "    </tr>\n",
       "    <tr>\n",
       "      <th>5</th>\n",
       "      <td>297706618</td>\n",
       "      <td>weight_loss_existance</td>\n",
       "      <td>請問你過去嗰三個月有冇無端端輕左？</td>\n",
       "      <td>yes</td>\n",
       "    </tr>\n",
       "  </tbody>\n",
       "</table>\n",
       "</div>"
      ],
      "text/plain": [
       "   session_id              slot_name     question_asked     slot_value\n",
       "0   297706618          appetite_loss            胃口有冇差到？            yes\n",
       "1   297706618        cough_existence            請問你有冇咳？             no\n",
       "2   297706618        food_preference        你有冇特別嘅嘢唔食㗎？  no preference\n",
       "3   297706618       sputum_existence             請問有冇痰？            no.\n",
       "4   297706618     weight_loss_amount  請問你過去嗰三個月有冇無端端輕左？          1-5kg\n",
       "5   297706618  weight_loss_existance  請問你過去嗰三個月有冇無端端輕左？            yes"
      ]
     },
     "execution_count": 5,
     "metadata": {},
     "output_type": "execute_result"
    }
   ],
   "source": [
    "table.reset_index(drop=True)[[\"session_id\", \"slot_name\", \"question_asked\",\"slot_value\"]]"
   ]
  },
  {
   "cell_type": "code",
   "execution_count": 6,
   "metadata": {},
   "outputs": [
    {
     "data": {
      "text/plain": [
       "array(['appetite_loss', 'cough_existence', 'food_preference',\n",
       "       'sputum_existence', 'weight_loss_amount', 'weight_loss_existance'],\n",
       "      dtype=object)"
      ]
     },
     "execution_count": 6,
     "metadata": {},
     "output_type": "execute_result"
    }
   ],
   "source": [
    "table.slot_name.unique()"
   ]
  },
  {
   "cell_type": "code",
   "execution_count": 7,
   "metadata": {},
   "outputs": [
    {
     "data": {
      "text/html": [
       "<div>\n",
       "<style scoped>\n",
       "    .dataframe tbody tr th:only-of-type {\n",
       "        vertical-align: middle;\n",
       "    }\n",
       "\n",
       "    .dataframe tbody tr th {\n",
       "        vertical-align: top;\n",
       "    }\n",
       "\n",
       "    .dataframe thead th {\n",
       "        text-align: right;\n",
       "    }\n",
       "</style>\n",
       "<table border=\"1\" class=\"dataframe\">\n",
       "  <thead>\n",
       "    <tr style=\"text-align: right;\">\n",
       "      <th></th>\n",
       "      <th>PAF_Question</th>\n",
       "      <th>PAF_Result</th>\n",
       "    </tr>\n",
       "  </thead>\n",
       "  <tbody>\n",
       "    <tr>\n",
       "      <th>1</th>\n",
       "      <td>Coughing 請問有冇咳？</td>\n",
       "      <td>☑️ No \\t ☐ Yes</td>\n",
       "    </tr>\n",
       "    <tr>\n",
       "      <th>2</th>\n",
       "      <td>Sputum 請問有冇痰？</td>\n",
       "      <td>☑️ No \\t ☐ Yes</td>\n",
       "    </tr>\n",
       "    <tr>\n",
       "      <th>2.1</th>\n",
       "      <td>\\t – \\t Sputum Amount 有痰的話，有幾多量？</td>\n",
       "      <td>N.A.</td>\n",
       "    </tr>\n",
       "    <tr>\n",
       "      <th>2.2</th>\n",
       "      <td>\\t – \\t Sputum Color 痰顏色係咩？</td>\n",
       "      <td>N.A.</td>\n",
       "    </tr>\n",
       "    <tr>\n",
       "      <th>3</th>\n",
       "      <td>Weight Loss 有冇體重下降？</td>\n",
       "      <td>☐ No \\t ☑️ Yes</td>\n",
       "    </tr>\n",
       "    <tr>\n",
       "      <th>3.1</th>\n",
       "      <td>\\t – \\t Weight Loss Amount 輕咗幾多？</td>\n",
       "      <td>1-5kg</td>\n",
       "    </tr>\n",
       "    <tr>\n",
       "      <th>4</th>\n",
       "      <td>Appetite Loss 胃口差别？</td>\n",
       "      <td>☐ No \\t ☑️ Yes</td>\n",
       "    </tr>\n",
       "    <tr>\n",
       "      <th>5</th>\n",
       "      <td>Food Preference 咩唔食？</td>\n",
       "      <td>no preference</td>\n",
       "    </tr>\n",
       "  </tbody>\n",
       "</table>\n",
       "</div>"
      ],
      "text/plain": [
       "                         PAF_Question      PAF_Result\n",
       "1                     Coughing 請問有冇咳？  ☑️ No \\t ☐ Yes\n",
       "2                       Sputum 請問有冇痰？  ☑️ No \\t ☐ Yes\n",
       "2.1  \\t – \\t Sputum Amount 有痰的話，有幾多量？            N.A.\n",
       "2.2       \\t – \\t Sputum Color 痰顏色係咩？            N.A.\n",
       "3                 Weight Loss 有冇體重下降？  ☐ No \\t ☑️ Yes\n",
       "3.1  \\t – \\t Weight Loss Amount 輕咗幾多？           1-5kg\n",
       "4                 Appetite Loss 胃口差别？  ☐ No \\t ☑️ Yes\n",
       "5                Food Preference 咩唔食？   no preference"
      ]
     },
     "execution_count": 7,
     "metadata": {},
     "output_type": "execute_result"
    }
   ],
   "source": [
    "from fill_PAF_table import fill_paf_table\n",
    "\n",
    "tab = fill_paf_table(response.get(\"responses\", {}))\n",
    "tab"
   ]
  },
  {
   "cell_type": "code",
   "execution_count": 8,
   "metadata": {},
   "outputs": [],
   "source": [
    "session_info = requests.post(f\"{NGROK_DOMAIN}/get_session_info\", json={\"session_id\": session_id})\n",
    "session_info = session_info.json()"
   ]
  },
  {
   "cell_type": "code",
   "execution_count": 9,
   "metadata": {},
   "outputs": [
    {
     "data": {
      "text/plain": [
       "{'responses': {'curr_question_id': 'initial_status',\n",
       "  'grace_uttrs_history': ['initial_status'],\n",
       "  'history': ['initial_status'],\n",
       "  'q_tracker': ['initial_status'],\n",
       "  'session_id': 297706618,\n",
       "  'user_uttrs_history': []}}"
      ]
     },
     "execution_count": 9,
     "metadata": {},
     "output_type": "execute_result"
    }
   ],
   "source": [
    "session_info"
   ]
  },
  {
   "cell_type": "code",
   "execution_count": null,
   "metadata": {},
   "outputs": [],
   "source": []
  }
 ],
 "metadata": {
  "kernelspec": {
   "display_name": "venv",
   "language": "python",
   "name": "python3"
  },
  "language_info": {
   "codemirror_mode": {
    "name": "ipython",
    "version": 3
   },
   "file_extension": ".py",
   "mimetype": "text/x-python",
   "name": "python",
   "nbconvert_exporter": "python",
   "pygments_lexer": "ipython3",
   "version": "3.11.5"
  }
 },
 "nbformat": 4,
 "nbformat_minor": 2
}
